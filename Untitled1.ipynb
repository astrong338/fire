{
 "cells": [
  {
   "cell_type": "code",
   "execution_count": null,
   "metadata": {},
   "outputs": [],
   "source": [
    "import forecastio\n",
    "from datetime import datetime\n",
    "api_key = \"624dd1ce64bc7c18182c76506d545f33\"\n",
    "lat  = 32.736\n",
    "lng  = -117.114\n",
    "current_time = datetime(2014, 9, 15, 12, 0, 0)\n",
    "forecast = forecastio.load_forecast(api_key, lat, lng, time=current_time)\n",
    "byHour = forecast.hourly()\n",
    "for hourlyData in byHour.data:\n",
    "        print (hourlyData.windGust)"
   ]
  },
  {
   "cell_type": "code",
   "execution_count": null,
   "metadata": {},
   "outputs": [],
   "source": [
    "byDay=forecast.daily()"
   ]
  },
  {
   "cell_type": "code",
   "execution_count": null,
   "metadata": {},
   "outputs": [],
   "source": [
    "for dailyData in byDay.data:\n",
    "        print (dailyData.windGust)"
   ]
  },
  {
   "cell_type": "code",
   "execution_count": null,
   "metadata": {},
   "outputs": [],
   "source": [
    "import forecastio\n",
    "from datetime import datetime\n",
    "api_key = \"624dd1ce64bc7c18182c76506d545f33\"\n",
    "wind_gust=[]\n",
    "for i in range(1000):\n",
    "    lat  = latitudes[i]\n",
    "    lng  = longitudes[i]\n",
    "    event_time = datetime(int(years[i]), int(months[i]), int(days[i]), int(hours[i]), 0, 0)\n",
    "    forecast = forecastio.load_forecast(api_key, lat, lng, time=event_time)\n",
    "    byDay = forecast.daily()\n",
    "    for dailyData in byDay.data:\n",
    "        wind_gust.append(dailyData.windGust)\n",
    "    \n",
    "print(wind_gust)"
   ]
  },
  {
   "cell_type": "code",
   "execution_count": null,
   "metadata": {},
   "outputs": [],
   "source": [
    "!py python-forecast.io-master/python-forecast.io-master/setup.py install"
   ]
  }
 ],
 "metadata": {
  "kernelspec": {
   "display_name": "Python 3",
   "language": "python",
   "name": "python3"
  },
  "language_info": {
   "codemirror_mode": {
    "name": "ipython",
    "version": 3
   },
   "file_extension": ".py",
   "mimetype": "text/x-python",
   "name": "python",
   "nbconvert_exporter": "python",
   "pygments_lexer": "ipython3",
   "version": "3.7.5"
  }
 },
 "nbformat": 4,
 "nbformat_minor": 2
}
